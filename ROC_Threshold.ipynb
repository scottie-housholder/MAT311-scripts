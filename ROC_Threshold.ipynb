{
 "cells": [
  {
   "cell_type": "code",
   "execution_count": 1,
   "metadata": {},
   "outputs": [],
   "source": [
    "#A function to calculate True Positive Rate\n",
    "def find_TPR(TP, FN):\n",
    "    if TP == 0:\n",
    "        return 0.0\n",
    "    return TP / (TP + FN)"
   ]
  },
  {
   "cell_type": "code",
   "execution_count": 2,
   "metadata": {},
   "outputs": [],
   "source": [
    "#A function to calculate False Positive Rate\n",
    "def find_FPR(FP, TN):\n",
    "    if FP == 0:\n",
    "        return 0.0\n",
    "    return FP / (FP + TN)"
   ]
  },
  {
   "cell_type": "code",
   "execution_count": 26,
   "metadata": {},
   "outputs": [],
   "source": [
    "#A function to create a confusion matrix. Assumes both lists are the same size and only contains 0s and 1s\n",
    "def create_confusion_matrix(actual_labels, predicted_labels):\n",
    "    TP = TN = FP = FN = 0\n",
    "    for i in range(len(actual_labels)):\n",
    "        if actual_labels[i] == 1 and predicted_labels[i] == 1:\n",
    "            TP += 1\n",
    "        elif actual_labels[i] == 1 and predicted_labels[i] == 0:\n",
    "            FN += 1\n",
    "        elif actual_labels[i] == 0 and predicted_labels[i] == 1:\n",
    "            FP += 1\n",
    "        else:\n",
    "            TN += 1\n",
    "    # print(f\"True positive: {TP}\\nTrue negative: {TN}\\nFalse positive: {FP}\\nFalse negative: {FN}\\n\") #Test line\n",
    "    return [TP, TN, FP, FN]"
   ]
  },
  {
   "cell_type": "code",
   "execution_count": 27,
   "metadata": {},
   "outputs": [
    {
     "data": {
      "text/plain": [
       "[4, 3, 2, 1]"
      ]
     },
     "execution_count": 27,
     "metadata": {},
     "output_type": "execute_result"
    }
   ],
   "source": [
    "#test data. Will likely delete at some point\n",
    "test_actual = [1, 1, 0, 1, 1, 0, 0, 0, 1, 0]\n",
    "test_predict = [1, 1, 1, 1, 1, 1, 0, 0, 0, 0]\n",
    "create_confusion_matrix(test_actual, test_predict)"
   ]
  },
  {
   "cell_type": "code",
   "execution_count": 32,
   "metadata": {},
   "outputs": [],
   "source": [
    "def thresholds(predicted_probs, actual_lables):\n",
    "    #A list that holds all the probabilities already used in this function to prevent repeats\n",
    "    used_probs = []\n",
    "\n",
    "    for prob in predicted_probs:\n",
    "        #Check if the probability has already been checked\n",
    "        if prob in used_probs:\n",
    "            continue\n",
    "        else:\n",
    "            used_probs.append(prob)\n",
    "        \n",
    "        #Generate a list of predicted labels based on the threshold for predicted probability\n",
    "        predicted_labels = []\n",
    "        for i in range(len(predicted_probs)):\n",
    "            if predicted_probs[i] >= prob:\n",
    "                predicted_labels.append(1)\n",
    "            else:\n",
    "                predicted_labels.append(0)\n",
    "        TP, TN, FP, FN = create_confusion_matrix(actual_lables, predicted_labels)\n",
    "        TPR = find_TPR(TP, FN)\n",
    "        FPR = find_FPR(FP, TN)\n",
    "        print(TPR, FPR)"
   ]
  },
  {
   "cell_type": "code",
   "execution_count": 34,
   "metadata": {},
   "outputs": [
    {
     "name": "stdout",
     "output_type": "stream",
     "text": [
      "0.2 0.0\n",
      "0.4 0.0\n",
      "0.4 0.2\n",
      "0.6 0.2\n",
      "0.8 0.2\n",
      "0.8 0.4\n",
      "0.8 0.6\n",
      "0.8 0.8\n",
      "1.0 0.8\n",
      "1.0 1.0\n"
     ]
    }
   ],
   "source": [
    "#probs = [0.75, 0.7, 0.6, 0.65, 0.55, 0.51, 0.48, 0.48, 0.45, 0.40]\n",
    "probs = [0.9, 0.8, 0.7, 0.6, 0.55, 0.54, 0.53, 0.51, 0.50, 0.40] #Probabilities for one I know the ansers for as a test\n",
    "thresholds(probs, test_actual)"
   ]
  },
  {
   "cell_type": "code",
   "execution_count": null,
   "metadata": {},
   "outputs": [],
   "source": []
  }
 ],
 "metadata": {
  "kernelspec": {
   "display_name": "Python (myenv)",
   "language": "python",
   "name": "myenv"
  },
  "language_info": {
   "codemirror_mode": {
    "name": "ipython",
    "version": 3
   },
   "file_extension": ".py",
   "mimetype": "text/x-python",
   "name": "python",
   "nbconvert_exporter": "python",
   "pygments_lexer": "ipython3",
   "version": "3.11.13"
  }
 },
 "nbformat": 4,
 "nbformat_minor": 2
}
