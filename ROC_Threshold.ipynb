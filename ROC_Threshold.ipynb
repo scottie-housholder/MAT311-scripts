{
 "cells": [
  {
   "cell_type": "code",
   "execution_count": 1,
   "metadata": {},
   "outputs": [],
   "source": [
    "#A function to calculate True Positive Rate\n",
    "def find_TPR(TP, FN):\n",
    "    if TP == 0:\n",
    "        return 0.0\n",
    "    return TP / (TP + FN)"
   ]
  },
  {
   "cell_type": "code",
   "execution_count": 2,
   "metadata": {},
   "outputs": [],
   "source": [
    "#A function to calculate False Positive Rate\n",
    "def find_FPR(FP, TN):\n",
    "    if FP == 0:\n",
    "        return 0.0\n",
    "    return FP / (FP + TN)"
   ]
  },
  {
   "cell_type": "code",
   "execution_count": 9,
   "metadata": {},
   "outputs": [],
   "source": [
    "#A function to create a confusion matrix. Assumes both lists are the same size and only contains 0s and 1s\n",
    "def create_confusion_matrix(actual_labels, predicted_labels):\n",
    "    TP = TN = FP = FN = 0\n",
    "    for i in range(len(actual_labels)):\n",
    "        if actual_labels[i] == 1 and predicted_labels[i] == 1:\n",
    "            TP += 1\n",
    "        elif actual_labels[i] == 1 and predicted_labels[i] == 0:\n",
    "            FN += 1\n",
    "        elif actual_labels[i] == 0 and predicted_labels[i] == 1:\n",
    "            FP += 1\n",
    "        else:\n",
    "            TN += 1\n",
    "    print(f\"True positive: {TP}\\nTrue negative: {TN}\\nFalse positive: {FP}\\nFalse negative: {FN}\")"
   ]
  },
  {
   "cell_type": "code",
   "execution_count": 13,
   "metadata": {},
   "outputs": [
    {
     "name": "stdout",
     "output_type": "stream",
     "text": [
      "True positive: 4\n",
      "True negative: 3\n",
      "False positive: 2\n",
      "False negative: 1\n"
     ]
    }
   ],
   "source": [
    "test_actual = [1, 1, 0, 1, 1, 0, 0, 0, 1, 0]\n",
    "test_predict = [1, 1, 1, 1, 1, 1, 0, 0, 0, 0]\n",
    "create_confusion_matrix(test_actual, test_predict)"
   ]
  }
 ],
 "metadata": {
  "kernelspec": {
   "display_name": "Python (myenv)",
   "language": "python",
   "name": "myenv"
  },
  "language_info": {
   "codemirror_mode": {
    "name": "ipython",
    "version": 3
   },
   "file_extension": ".py",
   "mimetype": "text/x-python",
   "name": "python",
   "nbconvert_exporter": "python",
   "pygments_lexer": "ipython3",
   "version": "3.11.13"
  }
 },
 "nbformat": 4,
 "nbformat_minor": 2
}
